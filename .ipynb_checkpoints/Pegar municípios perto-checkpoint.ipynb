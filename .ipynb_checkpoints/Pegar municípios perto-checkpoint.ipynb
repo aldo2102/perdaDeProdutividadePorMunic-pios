{
 "cells": [
  {
   "cell_type": "code",
   "execution_count": null,
   "metadata": {},
   "outputs": [],
   "source": [
    "import pandas as pd\n",
    "import requests\n",
    "import json\n",
    "import csv\n",
    "\n",
    "def isnan(value):\n",
    "  try:\n",
    "      import math\n",
    "      return not(math.isnan(float(value)))\n",
    "  except:\n",
    "      return True\n",
    "\n",
    "excel = pd.read_excel (r'Lista Municípios, solo, data de plantio - INMET - Proagro.xlsx', 'Municípios')\n",
    "df = pd.DataFrame(excel, columns= excel)\n",
    "\n",
    "row_list = []\n",
    "row_list.append([\"centroideY\",\"centroideX\",\"nome\",\"URL\",\"codigoStr\"])\n",
    "for colunas in df:\n",
    "    try:\n",
    "        url = colunas[3]\n",
    "        response = requests.get(url, data=data,headers={\"Content-Type\": \"application/json;charset=UTF-8\"})\n",
    "        parsed_json = (json.loads(response.text))\n",
    "        \n",
    "        print(parsed_json['codigoStr'])\n",
    "    except:\n",
    "        continue\n",
    "    break\n",
    "                    "
   ]
  },
  {
   "cell_type": "code",
   "execution_count": null,
   "metadata": {},
   "outputs": [],
   "source": []
  }
 ],
 "metadata": {
  "kernelspec": {
   "display_name": "Python 3",
   "language": "python",
   "name": "python3"
  },
  "language_info": {
   "codemirror_mode": {
    "name": "ipython",
    "version": 3
   },
   "file_extension": ".py",
   "mimetype": "text/x-python",
   "name": "python",
   "nbconvert_exporter": "python",
   "pygments_lexer": "ipython3",
   "version": "3.7.6"
  }
 },
 "nbformat": 4,
 "nbformat_minor": 4
}
