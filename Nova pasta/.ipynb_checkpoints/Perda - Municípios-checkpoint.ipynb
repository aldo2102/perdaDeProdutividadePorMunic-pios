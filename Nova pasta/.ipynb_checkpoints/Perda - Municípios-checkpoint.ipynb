{
 "cells": [
  {
   "cell_type": "code",
   "execution_count": null,
   "metadata": {},
   "outputs": [
    {
     "name": "stdout",
     "output_type": "stream",
     "text": [
      "1\n",
      "2\n",
      "3\n",
      "4\n",
      "5\n",
      "6\n"
     ]
    }
   ],
   "source": [
    "import pandas as pd\n",
    "import requests\n",
    "import json\n",
    "import csv\n",
    "\n",
    "def isnan(value):\n",
    "  try:\n",
    "      import math\n",
    "      return not(math.isnan(float(value)))\n",
    "  except:\n",
    "      return True\n",
    "\n",
    "excel = pd.read_excel (r'Lista Municípios, solo, data de plantio - INMET - Proagro.xlsx', 'Planilha1')\n",
    "df = pd.DataFrame(excel, columns= excel)\n",
    "row_list = []\n",
    "row_list.append([ 'Município','UF','SoloId', 'Cultura', 'Ciclo','cad'])\n",
    "controler = True\n",
    "\n",
    "i = 0;\n",
    "for colunas in df:\n",
    "            i=i+1\n",
    "            print(i)\n",
    "            for linhas in range(14, 50):\n",
    "                try:\n",
    "                    if(controler):\n",
    "                        row_list[0].append(str(excel.columns[linhas]))\n",
    "\n",
    "                        with open(\"resultado.csv\", 'w', newline='') as file4:\n",
    "                            writer4 = csv.writer(file4)\n",
    "                            writer4.writerows(row_list)\n",
    "\n",
    "\n",
    "                    soloId = str(colunas[10])\n",
    "                    cad = str(colunas[13])\n",
    "                    dataPlantio = str(excel.columns[linhas])\n",
    "                    culturaId = str(colunas[7])\n",
    "                    if colunas[linhas]>0 and isnan(colunas[50]):\n",
    "\n",
    "                            estacaoId = colunas[50][:-1]\n",
    "\n",
    "                            url = 'http://sisdagro.inmet.gov.br/sisdagro/app/monitoramento/bhc.json'\n",
    "                            data = 'dataPlantio='+dataPlantio+'&culturaId='+culturaId+'&estacaoId='+estacaoId+'&soloId='+soloId+'&cad='+cad\n",
    "\n",
    "                            response = requests.post(url, data=data,headers={\"Content-Type\": \"application/x-www-form-urlencoded\"})\n",
    "\n",
    "\n",
    "                            parsed_json = (json.loads(response.text))\n",
    "                            serialized_size = len(parsed_json[\"bhc\"])\n",
    "                            if(linhas==14):\n",
    "                                row_list.append([colunas[3], colunas[0],soloId, colunas[8], colunas[9],cad,parsed_json[\"bhc\"][serialized_size-1]['penalidadeAcumuladaResume']])\n",
    "                            else:\n",
    "                                row_list[len(row_list)-1].append(parsed_json[\"bhc\"][serialized_size-1]['penalidadeAcumuladaResume'])\n",
    "                    else:\n",
    "                        if(linhas==14):\n",
    "                            row_list.append([colunas[3], colunas[0],soloId, colunas[8], colunas[9],cad,\"\"])\n",
    "                        else:\n",
    "                            row_list[len(row_list)-1].append(\"\")\n",
    "\n",
    "                    controler=False\n",
    "                    with open('resultado.csv', 'a', newline='') as file:\n",
    "                        writer = csv.writer(file)\n",
    "                        writer.writerows(row_list)\n",
    "                    row_list = []\n",
    "                except:\n",
    "                    continue\n",
    "                    \n",
    "with open('resultado.csv', 'a', newline='') as file2:\n",
    "    writer2 = csv.writer(file2)\n",
    "    writer2.writerows(row_list)\n",
    "          "
   ]
  },
  {
   "cell_type": "code",
   "execution_count": null,
   "metadata": {},
   "outputs": [],
   "source": []
  }
 ],
 "metadata": {
  "kernelspec": {
   "display_name": "Python 3",
   "language": "python",
   "name": "python3"
  },
  "language_info": {
   "codemirror_mode": {
    "name": "ipython",
    "version": 3
   },
   "file_extension": ".py",
   "mimetype": "text/x-python",
   "name": "python",
   "nbconvert_exporter": "python",
   "pygments_lexer": "ipython3",
   "version": "3.7.6"
  }
 },
 "nbformat": 4,
 "nbformat_minor": 4
}
